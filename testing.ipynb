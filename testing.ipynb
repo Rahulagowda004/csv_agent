{
 "cells": [
  {
   "cell_type": "code",
   "execution_count": 127,
   "id": "d15f6aa6",
   "metadata": {},
   "outputs": [],
   "source": [
    "from dotenv import load_dotenv\n",
    "from langchain_openai import ChatOpenAI\n",
    "from langchain_experimental.agents import create_pandas_dataframe_agent\n",
    "import pandas as pd\n",
    "\n",
    "load_dotenv()\n",
    "\n",
    "llm = ChatOpenAI(model=\"gpt-5\",temperature=0)"
   ]
  },
  {
   "cell_type": "code",
   "execution_count": 128,
   "id": "4e8fae1c",
   "metadata": {},
   "outputs": [],
   "source": [
    "def extract_dataframe_from_result(intermediate_steps):\n",
    "    \"\"\"\n",
    "    Extract the dataframe result from agent intermediate steps.\n",
    "    Returns the actual pandas DataFrame object when possible.\n",
    "    \"\"\"\n",
    "    if not intermediate_steps:\n",
    "        return None\n",
    "    \n",
    "    # Get the result from the last tool execution\n",
    "    last_result = intermediate_steps[-1][1]\n",
    "    \n",
    "    # If it's already a DataFrame, return it\n",
    "    if isinstance(last_result, pd.DataFrame):\n",
    "        return last_result\n",
    "    \n",
    "    # If it's a string representation, try to extract the query and re-execute\n",
    "    action = intermediate_steps[-1][0]\n",
    "    if hasattr(action, 'tool_input') and 'query' in action.tool_input:\n",
    "        query = action.tool_input['query']\n",
    "        print(f\"Executing query: {query}\")\n",
    "        try:\n",
    "            result_df = eval(query.split('\\n')[-1])\n",
    "            if isinstance(result_df, pd.DataFrame):\n",
    "                return result_df\n",
    "        except:\n",
    "            pass\n",
    "    return last_result"
   ]
  },
  {
   "cell_type": "code",
   "execution_count": 142,
   "id": "4ea0b5f2",
   "metadata": {},
   "outputs": [],
   "source": [
    "def analysis_agent(path, llm, query):\n",
    "    df = pd.read_csv(path)\n",
    "    agent_executor = create_pandas_dataframe_agent(\n",
    "        llm,\n",
    "        df,\n",
    "        agent_type=\"tool-calling\",\n",
    "        allow_dangerous_code=True,\n",
    "        return_intermediate_steps=True  # Add this line\n",
    "    )\n",
    "\n",
    "    result = agent_executor.invoke({\"input\": query})\n",
    "    \n",
    "    # Check if intermediate_steps exists before trying to extract\n",
    "    if \"intermediate_steps\" in result:\n",
    "        df = extract_dataframe_from_result(result[\"intermediate_steps\"])\n",
    "    else:\n",
    "        df = None\n",
    "        print(\"No intermediate steps found in result\")\n",
    "    \n",
    "    return result, df"
   ]
  },
  {
   "cell_type": "code",
   "execution_count": 143,
   "id": "0ed6cb64",
   "metadata": {},
   "outputs": [
    {
     "name": "stdout",
     "output_type": "stream",
     "text": [
      "Executing query: filtered = df[df['discount_pct'] > 0.10]\n",
      "filtered_shape = filtered.shape\n",
      "filtered_head = filtered.head(20)\n",
      "filtered_shape, filtered_head\n"
     ]
    }
   ],
   "source": [
    "response,df = analysis_agent(\"C:\\\\vscode\\\\csv_agent\\\\data\\\\data.csv\", llm, \"Display data where discount percentage is greater than 10%.\")"
   ]
  },
  {
   "cell_type": "code",
   "execution_count": 144,
   "id": "2d6036f8",
   "metadata": {},
   "outputs": [
    {
     "data": {
      "text/plain": [
       "((1074, 19),\n",
       "           date  year  quarter  month region     segment  channel  \\\n",
       " 1   2023-01-01  2023        1      1  North    Consumer   Retail   \n",
       " 4   2023-01-01  2023        1      1  South         SMB   Retail   \n",
       " 8   2023-01-01  2023        1      1  North  Enterprise   Retail   \n",
       " 13  2023-01-02  2023        1      1  North         SMB   Online   \n",
       " 16  2023-01-02  2023        1      1   West  Enterprise   Online   \n",
       " 20  2023-01-03  2023        1      1  South    Consumer   Online   \n",
       " 21  2023-01-03  2023        1      1  North  Enterprise   Online   \n",
       " 30  2023-01-04  2023        1      1   West    Consumer   Online   \n",
       " 37  2023-01-04  2023        1      1   West    Consumer   Retail   \n",
       " 42  2023-01-05  2023        1      1   East         SMB   Online   \n",
       " 47  2023-01-05  2023        1      1  South    Consumer   Online   \n",
       " 52  2023-01-05  2023        1      1  South         SMB   Online   \n",
       " 55  2023-01-05  2023        1      1   East    Consumer   Online   \n",
       " 62  2023-01-06  2023        1      1  North    Consumer  Partner   \n",
       " 63  2023-01-06  2023        1      1  North  Enterprise   Online   \n",
       " 67  2023-01-07  2023        1      1  South         SMB  Partner   \n",
       " 68  2023-01-07  2023        1      1  South  Enterprise  Partner   \n",
       " 72  2023-01-07  2023        1      1   East  Enterprise  Partner   \n",
       " 73  2023-01-08  2023        1      1   West  Enterprise   Online   \n",
       " 79  2023-01-08  2023        1      1   East    Consumer   Retail   \n",
       " \n",
       "          product_category    product_name      sku  units_sold  unit_price  \\\n",
       " 1                Hardware       Delta Hub   H-8359           1    37377.22   \n",
       " 4                Hardware       Delta Hub   H-3803           1    14792.44   \n",
       " 8   Professional Services     Integration  PS-2827           3     8168.76   \n",
       " 13  Software Subscription     Gamma Suite  SS-8744           1     4429.97   \n",
       " 16  Software Subscription      Beta Cloud  SS-5345           1    11265.18   \n",
       " 20  Software Subscription      Alpha SaaS  SS-7054           1     4849.87   \n",
       " 21  Professional Services      Custom Dev  PS-3546           1    45315.83   \n",
       " 30  Professional Services      Custom Dev  PS-6279           1    19112.47   \n",
       " 37               Hardware        Zeta Box   H-4613           1    15917.41   \n",
       " 42  Professional Services      Custom Dev  PS-2983           1    10135.59   \n",
       " 47  Professional Services     Integration  PS-2958           1    43888.50   \n",
       " 52  Software Subscription      Beta Cloud  SS-5632           1     9029.88   \n",
       " 55  Professional Services     Integration  PS-9502           8    17437.44   \n",
       " 62  Software Subscription      Beta Cloud  SS-8749           1     9052.28   \n",
       " 63  Software Subscription      Beta Cloud  SS-2633           1     7259.51   \n",
       " 67               Hardware  Epsilon Sensor   H-9955           1    22669.19   \n",
       " 68  Software Subscription      Beta Cloud  SS-6881           2     7748.12   \n",
       " 72  Professional Services     Integration  PS-2479           1    35901.76   \n",
       " 73  Software Subscription      Alpha SaaS  SS-6374           1    11152.56   \n",
       " 79               Hardware       Delta Hub   H-8405           1    42816.63   \n",
       " \n",
       "     discount_pct  gross_revenue      cogs  tax_pct  tax_amount  \\\n",
       " 1           0.15       31770.64  14901.88     0.12     3812.48   \n",
       " 4           0.15       12573.57   7233.13     0.05      628.68   \n",
       " 8           0.15       20830.33   8443.69     0.05     1041.52   \n",
       " 13          0.15        3765.48   1778.89     0.18      677.79   \n",
       " 16          0.15        9575.40   6685.25     0.18     1723.57   \n",
       " 20          0.15        4122.39   2108.92     0.12      494.69   \n",
       " 21          0.15       38518.46  24696.69     0.18     6933.32   \n",
       " 30          0.15       16245.60   5976.38     0.00        0.00   \n",
       " 37          0.15       13529.80   7734.40     0.18     2435.36   \n",
       " 42          0.15        8615.26   3861.60     0.12     1033.83   \n",
       " 47          0.15       37305.23  18416.82     0.12     4476.63   \n",
       " 52          0.15        7675.39   4113.37     0.05      383.77   \n",
       " 55          0.15      118574.56  74191.86     0.00        0.00   \n",
       " 62          0.15        7694.44   5327.07     0.18     1385.00   \n",
       " 63          0.15        6170.58   4245.26     0.00        0.00   \n",
       " 67          0.15       19268.81  13195.51     0.12     2312.26   \n",
       " 68          0.15       13171.80   6036.93     0.00        0.00   \n",
       " 72          0.15       30516.50  18297.83     0.12     3661.98   \n",
       " 73          0.15        9479.68   3989.77     0.18     1706.34   \n",
       " 79          0.15       36394.13  18509.35     0.18     6550.94   \n",
       " \n",
       "     returned_units  net_revenue  \n",
       " 1                0     35583.11  \n",
       " 4                0     13202.25  \n",
       " 8                0     21871.85  \n",
       " 13               0      4443.26  \n",
       " 16               0     11298.98  \n",
       " 20               0      4617.08  \n",
       " 21               0     45451.78  \n",
       " 30               0     16245.60  \n",
       " 37               0     15965.16  \n",
       " 42               1      1033.83  \n",
       " 47               0     41781.86  \n",
       " 52               0      8059.16  \n",
       " 55               0    118574.56  \n",
       " 62               0      9079.44  \n",
       " 63               0      6170.58  \n",
       " 67               0     21581.07  \n",
       " 68               0     13171.80  \n",
       " 72               0     34178.48  \n",
       " 73               0     11186.02  \n",
       " 79               0     42945.08  )"
      ]
     },
     "execution_count": 144,
     "metadata": {},
     "output_type": "execute_result"
    }
   ],
   "source": [
    "df"
   ]
  },
  {
   "cell_type": "code",
   "execution_count": 145,
   "id": "907a7970",
   "metadata": {},
   "outputs": [
    {
     "data": {
      "text/plain": [
       "'There are 1,074 rows where discount_pct > 0.10. Showing the first 20 rows:\\n\\n          date  year  quarter  month region     segment  channel         product_category    product_name      sku  units_sold  unit_price  discount_pct  gross_revenue      cogs  tax_pct  tax_amount  returned_units  net_revenue\\n1   2023-01-01  2023        1      1  North    Consumer   Retail                Hardware       Delta Hub   H-8359           1    37377.22          0.15       31770.64  14901.88     0.12     3812.48               0     35583.11\\n4   2023-01-01  2023        1      1  South         SMB   Retail                Hardware       Delta Hub   H-3803           1    14792.44          0.15       12573.57   7233.13     0.05      628.68               0     13202.25\\n8   2023-01-01  2023        1      1  North  Enterprise   Retail  Professional Services     Integration  PS-2827           3     8168.76          0.15       20830.33   8443.69     0.05     1041.52               0     21871.85\\n13  2023-01-02  2023        1      1  North         SMB   Online  Software Subscription     Gamma Suite  SS-8744           1     4429.97          0.15        3765.48   1778.89     0.18      677.79               0      4443.26\\n16  2023-01-02  2023        1      1   West  Enterprise   Online  Software Subscription      Beta Cloud  SS-5345           1    11265.18          0.15        9575.40   6685.25     0.18     1723.57               0     11298.98\\n20  2023-01-03  2023        1      1  South    Consumer   Online  Software Subscription      Alpha SaaS  SS-7054           1     4849.87          0.15        4122.39   2108.92     0.12      494.69               0      4617.08\\n21  2023-01-03  2023        1      1  North  Enterprise   Online  Professional Services      Custom Dev  PS-3546           1    45315.83          0.15       38518.46  24696.69     0.18     6933.32               0     45451.78\\n30  2023-01-04  2023        1      1   West    Consumer   Online  Professional Services      Custom Dev  PS-6279           1    19112.47          0.15       16245.60   5976.38     0.00        0.00               0     16245.60\\n37  2023-01-04  2023        1      1   West    Consumer   Retail                Hardware        Zeta Box   H-4613           1    15917.41          0.15       13529.80   7734.40     0.18     2435.36               0     15965.16\\n42  2023-01-05  2023        1      1   East         SMB   Online  Professional Services      Custom Dev  PS-2983           1    10135.59          0.15        8615.26   3861.60     0.12     1033.83               1      1033.83\\n47  2023-01-05  2023        1      1  South    Consumer   Online  Professional Services     Integration  PS-2958           1    43888.50          0.15       37305.23  18416.82     0.12     4476.63               0     41781.86\\n52  2023-01-05  2023        1      1  South         SMB   Online  Software Subscription      Beta Cloud  SS-5632           1     9029.88          0.15        7675.39   4113.37     0.05      383.77               0      8059.16\\n55  2023-01-05  2023        1      1   East    Consumer   Online  Professional Services     Integration  PS-9502           8    17437.44          0.15      118574.56  74191.86     0.00        0.00               0    118574.56\\n62  2023-01-06  2023        1      1  North    Consumer  Partner  Software Subscription      Beta Cloud  SS-8749           1     9052.28          0.15        7694.44   5327.07     0.18     1385.00               0      9079.44\\n63  2023-01-06  2023        1      1  North  Enterprise   Online  Software Subscription      Beta Cloud  SS-2633           1     7259.51          0.15        6170.58   4245.26     0.00        0.00               0      6170.58\\n67  2023-01-07  2023        1      1  South         SMB  Partner                Hardware  Epsilon Sensor   H-9955           1    22669.19          0.15       19268.81  13195.51     0.12     2312.26               0     21581.07\\n68  2023-01-07  2023        1      1  South  Enterprise  Partner  Software Subscription      Beta Cloud  SS-6881           2     7748.12          0.15       13171.80   6036.93     0.00        0.00               0     13171.80\\n72  2023-01-07  2023        1      1   East  Enterprise  Partner  Professional Services     Integration  PS-2479           1    35901.76          0.15       30516.50  18297.83     0.12     3661.98               0     34178.48\\n73  2023-01-08  2023        1      1   West  Enterprise   Online  Software Subscription      Alpha SaaS  SS-6374           1    11152.56          0.15        9479.68   3989.77     0.18     1706.34               0     11186.02\\n79  2023-01-08  2023        1      1   East    Consumer   Retail                Hardware       Delta Hub   H-8405           1    42816.63          0.15       36394.13  18509.35     0.18     6550.94               0     42945.08\\n\\nWant me to display more rows or export this subset to a CSV?'"
      ]
     },
     "execution_count": 145,
     "metadata": {},
     "output_type": "execute_result"
    }
   ],
   "source": [
    "response['output']"
   ]
  }
 ],
 "metadata": {
  "kernelspec": {
   "display_name": "csv_agent",
   "language": "python",
   "name": "python3"
  },
  "language_info": {
   "codemirror_mode": {
    "name": "ipython",
    "version": 3
   },
   "file_extension": ".py",
   "mimetype": "text/x-python",
   "name": "python",
   "nbconvert_exporter": "python",
   "pygments_lexer": "ipython3",
   "version": "3.12.11"
  }
 },
 "nbformat": 4,
 "nbformat_minor": 5
}
