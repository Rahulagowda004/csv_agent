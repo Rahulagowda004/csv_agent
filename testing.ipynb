{
 "cells": [
  {
   "cell_type": "code",
   "execution_count": 117,
   "id": "d15f6aa6",
   "metadata": {},
   "outputs": [],
   "source": [
    "from dotenv import load_dotenv\n",
    "from langchain_openai import ChatOpenAI\n",
    "from langchain_experimental.agents import create_pandas_dataframe_agent\n",
    "import pandas as pd\n",
    "\n",
    "load_dotenv()\n",
    "\n",
    "llm = ChatOpenAI(model=\"gpt-5\",temperature=0)"
   ]
  },
  {
   "cell_type": "code",
   "execution_count": 118,
   "id": "4e8fae1c",
   "metadata": {},
   "outputs": [],
   "source": [
    "def extract_dataframe_from_result(intermediate_steps):\n",
    "    \"\"\"\n",
    "    Extract the dataframe result from agent intermediate steps.\n",
    "    Returns the actual pandas DataFrame object when possible.\n",
    "    \"\"\"\n",
    "    if not intermediate_steps:\n",
    "        return None\n",
    "    \n",
    "    # Get the result from the last tool execution\n",
    "    last_result = intermediate_steps[-1][1]\n",
    "    \n",
    "    # If it's already a DataFrame, return it\n",
    "    if isinstance(last_result, pd.DataFrame):\n",
    "        return last_result\n",
    "    \n",
    "    # If it's a string representation, try to extract the query and re-execute\n",
    "    action = intermediate_steps[-1][0]\n",
    "    if hasattr(action, 'tool_input') and 'query' in action.tool_input:\n",
    "        query = action.tool_input['query']\n",
    "        print(f\"Executing query: {query}\")\n",
    "        try:\n",
    "            result_df = eval(query.split('\\n')[-1])\n",
    "            if isinstance(result_df, pd.DataFrame):\n",
    "                return result_df\n",
    "        except:\n",
    "            pass\n",
    "    return last_result"
   ]
  },
  {
   "cell_type": "code",
   "execution_count": 119,
   "id": "4ea0b5f2",
   "metadata": {},
   "outputs": [],
   "source": [
    "def analysis_agent(path, llm, query):\n",
    "    df = pd.read_csv(path)\n",
    "    agent_executor = create_pandas_dataframe_agent(\n",
    "        llm,\n",
    "        df,\n",
    "        agent_type=\"tool-calling\",\n",
    "        allow_dangerous_code=True,\n",
    "        return_intermediate_steps=True  # Add this line\n",
    "    )\n",
    "\n",
    "    result = agent_executor.invoke({\"input\": query})\n",
    "    \n",
    "    # Check if intermediate_steps exists before trying to extract\n",
    "    if \"intermediate_steps\" in result:\n",
    "        df = extract_dataframe_from_result(result[\"intermediate_steps\"])\n",
    "    else:\n",
    "        df = None\n",
    "        print(\"No intermediate steps found in result\")\n",
    "    \n",
    "    return result, df"
   ]
  },
  {
   "cell_type": "code",
   "execution_count": 120,
   "id": "0ed6cb64",
   "metadata": {},
   "outputs": [],
   "source": [
    "response,df = analysis_agent(\"C:\\\\vscode\\\\csv_agent\\\\data\\\\data.csv\", llm, \"what is the profit margin for each product category\")"
   ]
  },
  {
   "cell_type": "code",
   "execution_count": 121,
   "id": "2d6036f8",
   "metadata": {},
   "outputs": [
    {
     "data": {
      "text/html": [
       "<div>\n",
       "<style scoped>\n",
       "    .dataframe tbody tr th:only-of-type {\n",
       "        vertical-align: middle;\n",
       "    }\n",
       "\n",
       "    .dataframe tbody tr th {\n",
       "        vertical-align: top;\n",
       "    }\n",
       "\n",
       "    .dataframe thead th {\n",
       "        text-align: right;\n",
       "    }\n",
       "</style>\n",
       "<table border=\"1\" class=\"dataframe\">\n",
       "  <thead>\n",
       "    <tr style=\"text-align: right;\">\n",
       "      <th></th>\n",
       "      <th>product_category</th>\n",
       "      <th>revenue</th>\n",
       "      <th>cogs</th>\n",
       "      <th>profit</th>\n",
       "      <th>profit_margin_pct</th>\n",
       "    </tr>\n",
       "  </thead>\n",
       "  <tbody>\n",
       "    <tr>\n",
       "      <th>1</th>\n",
       "      <td>Professional Services</td>\n",
       "      <td>74376168.95</td>\n",
       "      <td>36861690.53</td>\n",
       "      <td>37514478.42</td>\n",
       "      <td>50.44</td>\n",
       "    </tr>\n",
       "    <tr>\n",
       "      <th>2</th>\n",
       "      <td>Software Subscription</td>\n",
       "      <td>36350192.23</td>\n",
       "      <td>18171125.67</td>\n",
       "      <td>18179066.56</td>\n",
       "      <td>50.01</td>\n",
       "    </tr>\n",
       "    <tr>\n",
       "      <th>3</th>\n",
       "      <td>Training</td>\n",
       "      <td>8917121.27</td>\n",
       "      <td>4512474.23</td>\n",
       "      <td>4404647.04</td>\n",
       "      <td>49.40</td>\n",
       "    </tr>\n",
       "    <tr>\n",
       "      <th>0</th>\n",
       "      <td>Hardware</td>\n",
       "      <td>69663392.19</td>\n",
       "      <td>35360408.29</td>\n",
       "      <td>34302983.90</td>\n",
       "      <td>49.24</td>\n",
       "    </tr>\n",
       "  </tbody>\n",
       "</table>\n",
       "</div>"
      ],
      "text/plain": [
       "        product_category      revenue         cogs       profit  \\\n",
       "1  Professional Services  74376168.95  36861690.53  37514478.42   \n",
       "2  Software Subscription  36350192.23  18171125.67  18179066.56   \n",
       "3               Training   8917121.27   4512474.23   4404647.04   \n",
       "0               Hardware  69663392.19  35360408.29  34302983.90   \n",
       "\n",
       "   profit_margin_pct  \n",
       "1              50.44  \n",
       "2              50.01  \n",
       "3              49.40  \n",
       "0              49.24  "
      ]
     },
     "execution_count": 121,
     "metadata": {},
     "output_type": "execute_result"
    }
   ],
   "source": [
    "df"
   ]
  }
 ],
 "metadata": {
  "kernelspec": {
   "display_name": "csv_agent",
   "language": "python",
   "name": "python3"
  },
  "language_info": {
   "codemirror_mode": {
    "name": "ipython",
    "version": 3
   },
   "file_extension": ".py",
   "mimetype": "text/x-python",
   "name": "python",
   "nbconvert_exporter": "python",
   "pygments_lexer": "ipython3",
   "version": "3.12.11"
  }
 },
 "nbformat": 4,
 "nbformat_minor": 5
}
